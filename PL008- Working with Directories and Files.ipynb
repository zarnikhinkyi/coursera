{
 "cells": [
  {
   "cell_type": "code",
   "execution_count": 1,
   "id": "18d5acc7",
   "metadata": {},
   "outputs": [],
   "source": [
    "file_object=open('myfile.txt','w')\n",
    "file_object.write('City \\n')\n",
    "file_object.close()"
   ]
  },
  {
   "cell_type": "code",
   "execution_count": 2,
   "id": "095e8312",
   "metadata": {},
   "outputs": [],
   "source": [
    "file_object=open('myfile.txt','w')\n",
    "L=['Yangon \\n','Mandalay \\n','Pyay \\n']\n",
    "file_object.write('City \\n')\n",
    "file_object.writelines(L)\n",
    "file_object.close()"
   ]
  },
  {
   "cell_type": "code",
   "execution_count": 3,
   "id": "4cb9c2e5",
   "metadata": {},
   "outputs": [],
   "source": [
    "file_object=open('myfile.txt','a')\n",
    "file_object.write('Bago \\n')\n",
    "file_object.write('Nay Pyi Taw \\n')\n",
    "file_object.close()"
   ]
  },
  {
   "cell_type": "code",
   "execution_count": 4,
   "id": "edccbc89",
   "metadata": {},
   "outputs": [
    {
     "name": "stdout",
     "output_type": "stream",
     "text": [
      "City \n",
      "Yangon \n",
      "Mandalay \n",
      "Pyay \n",
      "Bago \n",
      "Nay Pyi Taw \n",
      "\n"
     ]
    }
   ],
   "source": [
    "file_object=open('myfile.txt','r')\n",
    "print(file_object.read())\n",
    "file_object.close()"
   ]
  },
  {
   "cell_type": "code",
   "execution_count": 6,
   "id": "f06c129e",
   "metadata": {},
   "outputs": [
    {
     "name": "stdout",
     "output_type": "stream",
     "text": [
      "Cit\n"
     ]
    }
   ],
   "source": [
    "file_object=open('myfile.txt','r')\n",
    "print(file_object.read(3))\n",
    "file_object.close()"
   ]
  },
  {
   "cell_type": "code",
   "execution_count": 9,
   "id": "1b97d4da",
   "metadata": {},
   "outputs": [
    {
     "name": "stdout",
     "output_type": "stream",
     "text": [
      "['City \\n', 'Yangon \\n', 'Mandalay \\n', 'Pyay \\n', 'Bago \\n', 'Nay Pyi Taw \\n']\n"
     ]
    }
   ],
   "source": [
    "file_object=open('myfile.txt','r')\n",
    "print(file_object.readlines())\n",
    "file_object.close()"
   ]
  },
  {
   "cell_type": "code",
   "execution_count": 10,
   "id": "0b364dbe",
   "metadata": {},
   "outputs": [
    {
     "name": "stdout",
     "output_type": "stream",
     "text": [
      "City \n",
      "\n"
     ]
    }
   ],
   "source": [
    "file_object=open('myfile.txt','r')\n",
    "print(file_object.readline())\n",
    "file_object.close()"
   ]
  },
  {
   "cell_type": "code",
   "execution_count": null,
   "id": "a101e119",
   "metadata": {},
   "outputs": [],
   "source": []
  }
 ],
 "metadata": {
  "kernelspec": {
   "display_name": "Python 3 (ipykernel)",
   "language": "python",
   "name": "python3"
  },
  "language_info": {
   "codemirror_mode": {
    "name": "ipython",
    "version": 3
   },
   "file_extension": ".py",
   "mimetype": "text/x-python",
   "name": "python",
   "nbconvert_exporter": "python",
   "pygments_lexer": "ipython3",
   "version": "3.9.12"
  }
 },
 "nbformat": 4,
 "nbformat_minor": 5
}
